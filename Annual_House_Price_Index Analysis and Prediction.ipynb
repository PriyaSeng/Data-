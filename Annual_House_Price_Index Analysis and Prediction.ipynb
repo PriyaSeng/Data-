{
 "cells": [
  {
   "cell_type": "markdown",
   "metadata": {},
   "source": [
    "# OVERVIEW\n",
    "\n",
    "FHFA (Federal Housing Finance Agency) records the city real time house price dynamics using the panel of 3-digit ZIP Code house price indices (HPIs) ranging from 1975 to 2015 spanning the entire United States. Annual House Price Indexes dataset has 35829 observations and 6 attributes."
   ]
  },
  {
   "cell_type": "markdown",
   "metadata": {},
   "source": [
    "# IMPORTING THE NECESSARY LIBRARIES"
   ]
  },
  {
   "cell_type": "code",
   "execution_count": 1,
   "metadata": {},
   "outputs": [],
   "source": [
    "import pyspark"
   ]
  },
  {
   "cell_type": "code",
   "execution_count": 3,
   "metadata": {},
   "outputs": [],
   "source": [
    "from pyspark.sql import SQLContext\n",
    "from pyspark.sql import SparkSession"
   ]
  },
  {
   "cell_type": "code",
   "execution_count": 4,
   "metadata": {},
   "outputs": [],
   "source": [
    "spark1=SparkSession.builder.getOrCreate()"
   ]
  },
  {
   "cell_type": "code",
   "execution_count": 5,
   "metadata": {},
   "outputs": [
    {
     "data": {
      "text/plain": [
       "'C:\\\\Users\\\\PRIYA'"
      ]
     },
     "execution_count": 5,
     "metadata": {},
     "output_type": "execute_result"
    }
   ],
   "source": [
    "import os\n",
    "os.getcwd()"
   ]
  },
  {
   "cell_type": "markdown",
   "metadata": {},
   "source": [
    "# LOADING THE DATASET"
   ]
  },
  {
   "cell_type": "code",
   "execution_count": 6,
   "metadata": {},
   "outputs": [],
   "source": [
    "datazip=spark1.read.csv(\"Zip4.csv\",inferSchema=True,header=True)"
   ]
  },
  {
   "cell_type": "markdown",
   "metadata": {},
   "source": [
    "# IMPORTING THE VISUALIZATION LIBRARIES"
   ]
  },
  {
   "cell_type": "code",
   "execution_count": 6,
   "metadata": {},
   "outputs": [],
   "source": [
    "import seaborn as sb\n",
    "import seaborn as sns\n",
    "import matplotlib.pyplot as plt\n",
    "import pandas as pd"
   ]
  },
  {
   "cell_type": "markdown",
   "metadata": {},
   "source": [
    "# DETERMINING THE DATATYPE OF EVERY VARIABLE"
   ]
  },
  {
   "cell_type": "code",
   "execution_count": 7,
   "metadata": {},
   "outputs": [
    {
     "name": "stdout",
     "output_type": "stream",
     "text": [
      "root\n",
      " |-- Three-Digit ZIP Code: integer (nullable = true)\n",
      " |-- Year: integer (nullable = true)\n",
      " |-- Annual Change (%): string (nullable = true)\n",
      " |-- HPI: string (nullable = true)\n",
      " |-- HPI with 1990 base: string (nullable = true)\n",
      " |-- HPI with 2000 base: string (nullable = true)\n",
      "\n"
     ]
    }
   ],
   "source": [
    "datazip.printSchema()"
   ]
  },
  {
   "cell_type": "markdown",
   "metadata": {},
   "source": [
    "# OVERVIEW OF THE DATASET"
   ]
  },
  {
   "cell_type": "code",
   "execution_count": 8,
   "metadata": {},
   "outputs": [
    {
     "name": "stdout",
     "output_type": "stream",
     "text": [
      "+--------------------+----+-----------------+------+------------------+------------------+\n",
      "|Three-Digit ZIP Code|Year|Annual Change (%)|   HPI|HPI with 1990 base|HPI with 2000 base|\n",
      "+--------------------+----+-----------------+------+------------------+------------------+\n",
      "|                  10|1975|                .|100.00|             23.29|             21.80|\n",
      "|                  10|1976|             7.02|107.02|             24.92|             23.33|\n",
      "|                  10|1977|             6.99|114.50|             26.66|             24.96|\n",
      "|                  10|1978|             7.19|122.73|             28.58|             26.76|\n",
      "|                  10|1979|            16.49|142.97|             33.29|             31.17|\n",
      "|                  10|1980|            12.18|160.39|             37.35|             34.97|\n",
      "|                  10|1981|             7.87|173.00|             40.29|             37.72|\n",
      "|                  10|1982|            12.47|194.58|             45.31|             42.42|\n",
      "|                  10|1983|             5.58|205.43|             47.84|             44.79|\n",
      "|                  10|1984|            15.36|236.98|             55.18|             51.66|\n",
      "|                  10|1985|            12.10|265.64|             61.86|             57.91|\n",
      "|                  10|1986|            14.62|304.47|             70.90|             66.38|\n",
      "|                  10|1987|            21.42|369.68|             86.08|             80.60|\n",
      "|                  10|1988|            15.62|427.42|             99.53|             93.18|\n",
      "|                  10|1989|             2.56|438.36|            102.08|             95.57|\n",
      "|                  10|1990|            -2.03|429.44|            100.00|             93.62|\n",
      "|                  10|1991|            -3.37|414.98|             96.63|             90.47|\n",
      "|                  10|1992|            -2.05|406.45|             94.65|             88.61|\n",
      "|                  10|1993|            -1.46|400.50|             93.26|             87.32|\n",
      "|                  10|1994|            -1.33|395.19|             92.02|             86.16|\n",
      "+--------------------+----+-----------------+------+------------------+------------------+\n",
      "only showing top 20 rows\n",
      "\n"
     ]
    }
   ],
   "source": [
    "datazip.show()"
   ]
  },
  {
   "cell_type": "markdown",
   "metadata": {},
   "source": [
    "# DETRMINING THE NUMBER OF OBSERVATIONS IN THE DATASET"
   ]
  },
  {
   "cell_type": "code",
   "execution_count": 18,
   "metadata": {},
   "outputs": [
    {
     "data": {
      "text/plain": [
       "35829"
      ]
     },
     "execution_count": 18,
     "metadata": {},
     "output_type": "execute_result"
    }
   ],
   "source": [
    "datazip.count()"
   ]
  },
  {
   "cell_type": "markdown",
   "metadata": {},
   "source": [
    "# CHANGING THE DATATYPE OF THE VARIABLE"
   ]
  },
  {
   "cell_type": "code",
   "execution_count": 9,
   "metadata": {},
   "outputs": [],
   "source": [
    "from pyspark.sql.types import IntegerType\n",
    "from pyspark.sql.types import FloatType\n",
    "from pyspark.sql.types import StringType"
   ]
  },
  {
   "cell_type": "code",
   "execution_count": 10,
   "metadata": {},
   "outputs": [],
   "source": [
    "datazip = datazip.withColumn(\"Annual Change (%)\", datazip[\"Annual Change (%)\"].cast(FloatType()))"
   ]
  },
  {
   "cell_type": "code",
   "execution_count": 11,
   "metadata": {},
   "outputs": [],
   "source": [
    "datazip = datazip.withColumn(\"HPI\", datazip[\"HPI\"].cast(FloatType()))"
   ]
  },
  {
   "cell_type": "code",
   "execution_count": 12,
   "metadata": {},
   "outputs": [],
   "source": [
    "datazip = datazip.withColumn(\"HPI with 1990 base\", datazip[\"HPI with 1990 base\"].cast(FloatType()))"
   ]
  },
  {
   "cell_type": "code",
   "execution_count": 13,
   "metadata": {},
   "outputs": [],
   "source": [
    "datazip = datazip.withColumn(\"HPI with 2000 base\", datazip[\"HPI with 2000 base\"].cast(FloatType()))"
   ]
  },
  {
   "cell_type": "code",
   "execution_count": 14,
   "metadata": {},
   "outputs": [],
   "source": [
    "datazip = datazip.withColumn(\"Year\", datazip[\"Year\"].cast(StringType()))"
   ]
  },
  {
   "cell_type": "code",
   "execution_count": 15,
   "metadata": {},
   "outputs": [],
   "source": [
    "datazip = datazip.withColumn(\"Three-Digit ZIP Code\", datazip[\"Three-Digit ZIP Code\"].cast(StringType()))"
   ]
  },
  {
   "cell_type": "markdown",
   "metadata": {},
   "source": [
    "# INDIVIDUALLY DETERMING IN EVERY COLUMN FROM THE COUNT IF THERE ARE ANY NA VALUES"
   ]
  },
  {
   "cell_type": "code",
   "execution_count": 19,
   "metadata": {},
   "outputs": [
    {
     "name": "stdout",
     "output_type": "stream",
     "text": [
      "+-------+--------------------+\n",
      "|summary|Three-Digit ZIP Code|\n",
      "+-------+--------------------+\n",
      "|  count|               35829|\n",
      "|   mean|  497.71369560970163|\n",
      "| stddev|  284.80620564941995|\n",
      "|    min|                  10|\n",
      "|    max|                 999|\n",
      "+-------+--------------------+\n",
      "\n"
     ]
    }
   ],
   "source": [
    "datazip.describe([\"Three-Digit ZIP Code\"]).show()"
   ]
  },
  {
   "cell_type": "code",
   "execution_count": 20,
   "metadata": {},
   "outputs": [
    {
     "name": "stdout",
     "output_type": "stream",
     "text": [
      "+-------+------------------+\n",
      "|summary|              Year|\n",
      "+-------+------------------+\n",
      "|  count|             35829|\n",
      "|   mean|1997.7457366937397|\n",
      "| stddev|12.264385052167306|\n",
      "|    min|              1975|\n",
      "|    max|              2018|\n",
      "+-------+------------------+\n",
      "\n"
     ]
    }
   ],
   "source": [
    "datazip.describe([\"Year\"]).show()"
   ]
  },
  {
   "cell_type": "code",
   "execution_count": 21,
   "metadata": {},
   "outputs": [
    {
     "name": "stdout",
     "output_type": "stream",
     "text": [
      "+-------+-----------------+\n",
      "|summary|Annual Change (%)|\n",
      "+-------+-----------------+\n",
      "|  count|            34616|\n",
      "|   mean|3.913496648643626|\n",
      "| stddev|6.372764631848708|\n",
      "|    min|           -44.16|\n",
      "|    max|            84.97|\n",
      "+-------+-----------------+\n",
      "\n"
     ]
    }
   ],
   "source": [
    "datazip.describe([\"Annual Change (%)\"]).show()"
   ]
  },
  {
   "cell_type": "code",
   "execution_count": 22,
   "metadata": {},
   "outputs": [
    {
     "name": "stdout",
     "output_type": "stream",
     "text": [
      "+-------+-----------------+\n",
      "|summary|              HPI|\n",
      "+-------+-----------------+\n",
      "|  count|            35617|\n",
      "|   mean|293.8579415157669|\n",
      "| stddev|205.5355445493114|\n",
      "|    min|            53.28|\n",
      "|    max|          2857.74|\n",
      "+-------+-----------------+\n",
      "\n"
     ]
    }
   ],
   "source": [
    "datazip.describe([\"HPI\"]).show()"
   ]
  },
  {
   "cell_type": "code",
   "execution_count": 23,
   "metadata": {},
   "outputs": [
    {
     "name": "stdout",
     "output_type": "stream",
     "text": [
      "+-------+------------------+\n",
      "|summary|HPI with 1990 base|\n",
      "+-------+------------------+\n",
      "|  count|             34480|\n",
      "|   mean| 136.8779405297923|\n",
      "| stddev|  61.3824818572303|\n",
      "|    min|             17.12|\n",
      "|    max|            669.89|\n",
      "+-------+------------------+\n",
      "\n"
     ]
    }
   ],
   "source": [
    "datazip.describe([\"HPI with 1990 base\"]).show()"
   ]
  },
  {
   "cell_type": "code",
   "execution_count": 24,
   "metadata": {},
   "outputs": [
    {
     "name": "stdout",
     "output_type": "stream",
     "text": [
      "+-------+------------------+\n",
      "|summary|HPI with 2000 base|\n",
      "+-------+------------------+\n",
      "|  count|             35404|\n",
      "|   mean|  98.5337671119471|\n",
      "| stddev|42.544043453269545|\n",
      "|    min|              9.15|\n",
      "|    max|            397.17|\n",
      "+-------+------------------+\n",
      "\n"
     ]
    }
   ],
   "source": [
    "datazip.describe([\"HPI with 2000 base\"]).show()"
   ]
  },
  {
   "cell_type": "code",
   "execution_count": null,
   "metadata": {},
   "outputs": [],
   "source": [
    "#WE OBSERVE THAT COUNT OF ANNUAL CHANGE,HPI,HPW WITH 2000 BASE,HPI WITH 1990 BASE IS LESS THAN THE ORIGINAL COUNT OF 35829 INDICATING THAT THESE COLUMNS HAVE NA VALUES"
   ]
  },
  {
   "cell_type": "markdown",
   "metadata": {},
   "source": [
    "# HANDLING THE NA VALUES BY SUBSTITUTING THEM WITH ZERO"
   ]
  },
  {
   "cell_type": "code",
   "execution_count": 25,
   "metadata": {},
   "outputs": [],
   "source": [
    " datazip = datazip.fillna({'Annual Change (%)':'0'})"
   ]
  },
  {
   "cell_type": "code",
   "execution_count": 26,
   "metadata": {},
   "outputs": [],
   "source": [
    "datazip = datazip.fillna({'HPI':'0'})"
   ]
  },
  {
   "cell_type": "code",
   "execution_count": 27,
   "metadata": {},
   "outputs": [],
   "source": [
    "datazip = datazip.fillna({'HPI with 1990 base':'0'})"
   ]
  },
  {
   "cell_type": "code",
   "execution_count": 28,
   "metadata": {},
   "outputs": [],
   "source": [
    "datazip = datazip.fillna({'HPI with 2000 base':'0'})"
   ]
  },
  {
   "cell_type": "markdown",
   "metadata": {},
   "source": [
    "# BUILDING THE CORRELATION MATRIX"
   ]
  },
  {
   "cell_type": "code",
   "execution_count": 32,
   "metadata": {},
   "outputs": [
    {
     "data": {
      "image/png": "[encoded data removed]",
      "text/plain": [
       "<Figure size 1440x864 with 2 Axes>"
      ]
     },
     "metadata": {
      "needs_background": "light"
     },
     "output_type": "display_data"
    }
   ],
   "source": [
    "from pyspark.mllib.stat import Statistics\n",
    "import pandas as pd\n",
    "import matplotlib.pyplot as plt\n",
    "import seaborn as sb\n",
    "import seaborn as sns\n",
    "\n",
    "# df = sqlCtx.read.format('com.databricks.spark.csv').option('header', 'true').option('inferschema', 'true').load('corr_test.csv')\n",
    "df = datazip\n",
    "col_names = df.columns\n",
    "features = df.rdd.map(lambda row: row[0:])\n",
    "corr_mat=Statistics.corr(features, method=\"pearson\")\n",
    "corr_df = pd.DataFrame(corr_mat)\n",
    "plt.figure(figsize=(20,12))\n",
    "sb.heatmap(corr_df.corr(),annot=True)\n",
    "plt.title(\"Correlations of Variables\")\n",
    "plt.show()"
   ]
  },
  {
   "cell_type": "markdown",
   "metadata": {},
   "source": [
    "# CREATING A TEMPORARY TABLE NAMED DATAZIP"
   ]
  },
  {
   "cell_type": "code",
   "execution_count": 33,
   "metadata": {},
   "outputs": [],
   "source": [
    "datazip.createOrReplaceTempView(\"Datazip\")"
   ]
  },
  {
   "cell_type": "markdown",
   "metadata": {},
   "source": [
    "# EXTRACTING THE RELEVANT COLUMNS BY USING SPARKSQL"
   ]
  },
  {
   "cell_type": "code",
   "execution_count": 34,
   "metadata": {},
   "outputs": [],
   "source": [
    "zipresult=spark1.sql(\"\"\"select `Three-Digit ZIP Code`AS threedigitzip,HPI FROM Datazip\"\"\")\n",
    "#result3=spark.sql(\"select Zhvi,PeakQuarter from Dataset1 \")"
   ]
  },
  {
   "cell_type": "code",
   "execution_count": 35,
   "metadata": {},
   "outputs": [],
   "source": [
    "zipresult1=zipresult.groupBy('threedigitzip').max().collect()"
   ]
  },
  {
   "cell_type": "code",
   "execution_count": 36,
   "metadata": {},
   "outputs": [],
   "source": [
    "from pyspark.sql.types import *\n",
    "\n",
    "cSchema1 = StructType([StructField(\"threedigitzip\", StringType())\\\n",
    "                      ,StructField(\"HPI\", FloatType())])\n",
    "\n",
    "zipresult2 = spark1.createDataFrame(zipresult1,schema=cSchema1) "
   ]
  },
  {
   "cell_type": "code",
   "execution_count": 37,
   "metadata": {},
   "outputs": [],
   "source": [
    "zipresult3=zipresult2.sort(zipresult2.HPI.desc()).collect()"
   ]
  },
  {
   "cell_type": "code",
   "execution_count": 38,
   "metadata": {},
   "outputs": [],
   "source": [
    "cSchema2 = StructType([StructField(\"threedigitzip\", StringType())\\\n",
    "                      ,StructField(\"HPI\", FloatType())])\n",
    "\n",
    "zipresult4 = spark1.createDataFrame(zipresult3,schema=cSchema2) "
   ]
  },
  {
   "cell_type": "code",
   "execution_count": 39,
   "metadata": {},
   "outputs": [],
   "source": [
    "zipresult5=zipresult4.take(50)"
   ]
  },
  {
   "cell_type": "code",
   "execution_count": 40,
   "metadata": {},
   "outputs": [],
   "source": [
    "from pyspark.sql.types import *\n",
    "\n",
    "cSchema3 = StructType([StructField(\"threedigitzip\", StringType())\\\n",
    "                      ,StructField(\"HPI\", FloatType())])\n",
    "\n",
    "zipresult5 = spark1.createDataFrame(zipresult5,schema=cSchema3) "
   ]
  },
  {
   "cell_type": "markdown",
   "metadata": {},
   "source": [
    "# CREATING THE RDDS"
   ]
  },
  {
   "cell_type": "code",
   "execution_count": 43,
   "metadata": {},
   "outputs": [],
   "source": [
    "resultzip=zipresult5.rdd.map(lambda row : row.threedigitzip).collect()\n"
   ]
  },
  {
   "cell_type": "code",
   "execution_count": 42,
   "metadata": {},
   "outputs": [],
   "source": [
    "resultzip1=zipresult5.rdd.map(lambda row : row.HPI).collect()\n"
   ]
  },
  {
   "cell_type": "markdown",
   "metadata": {},
   "source": [
    "# PLOTTING THE GRAPH OF HPI BY THREE DIGIT ZIP CODE"
   ]
  },
  {
   "cell_type": "code",
   "execution_count": 44,
   "metadata": {
    "scrolled": false
   },
   "outputs": [
    {
     "data": {
      "image/png": "[encoded data removed]",
      "text/plain": [
       "<Figure size 2160x1440 with 1 Axes>"
      ]
     },
     "metadata": {
      "needs_background": "light"
     },
     "output_type": "display_data"
    }
   ],
   "source": [
    "plt.figure(figsize=(30,20))\n",
    "plt.bar(resultzip,resultzip1)\n",
    "plt.xlabel(\"Three Digit Zip Code\",fontsize=20)\n",
    "plt.ylabel(\"HPI\",fontsize=20)\n",
    "plt.title(\"HPI By Three Digit Zip Code\",fontsize=20)\n",
    "plt.show()"
   ]
  },
  {
   "cell_type": "markdown",
   "metadata": {},
   "source": [
    "# EXTRACTING THE RELEVANT COLUMNS BY USING SPARKSQL"
   ]
  },
  {
   "cell_type": "code",
   "execution_count": 45,
   "metadata": {},
   "outputs": [],
   "source": [
    "zipresult6=spark1.sql(\"\"\"select `Three-Digit ZIP Code`AS threedigitzip, `HPI with 2000 base` AS Hpitwothousand FROM Datazip\"\"\")"
   ]
  },
  {
   "cell_type": "code",
   "execution_count": 46,
   "metadata": {},
   "outputs": [],
   "source": [
    "zipresult7=zipresult6.groupBy('threedigitzip').max().collect()"
   ]
  },
  {
   "cell_type": "code",
   "execution_count": 47,
   "metadata": {},
   "outputs": [],
   "source": [
    "from pyspark.sql.types import *\n",
    "\n",
    "cSchema4 = StructType([StructField(\"threedigitzip\", StringType())\\\n",
    "                      ,StructField(\"Hpitwothousand\", FloatType())])\n",
    "\n",
    "zipresult8 = spark1.createDataFrame(zipresult7,schema=cSchema4) "
   ]
  },
  {
   "cell_type": "code",
   "execution_count": 48,
   "metadata": {},
   "outputs": [],
   "source": [
    "zipresult9=zipresult8.take(50)"
   ]
  },
  {
   "cell_type": "code",
   "execution_count": 49,
   "metadata": {},
   "outputs": [],
   "source": [
    "from pyspark.sql.types import *\n",
    "\n",
    "cSchema6 = StructType([StructField(\"threedigitzip\", StringType())\\\n",
    "                      ,StructField(\"Hpitwothousand\", FloatType())])\n",
    "\n",
    "zipresult10 = spark1.createDataFrame(zipresult9,schema=cSchema6) "
   ]
  },
  {
   "cell_type": "markdown",
   "metadata": {},
   "source": [
    "# CREATING THE RDDS"
   ]
  },
  {
   "cell_type": "code",
   "execution_count": 50,
   "metadata": {},
   "outputs": [],
   "source": [
    "resultzip3=zipresult10.rdd.map(lambda row : row.threedigitzip).collect()\n"
   ]
  },
  {
   "cell_type": "code",
   "execution_count": 51,
   "metadata": {},
   "outputs": [],
   "source": [
    "resultzip4=zipresult10.rdd.map(lambda row : row.Hpitwothousand).collect()\n"
   ]
  },
  {
   "cell_type": "markdown",
   "metadata": {},
   "source": [
    "# PLOTTING THE GRAPH OF HPI WITH 2000 BASE BY THREE DIGIT ZIP CODE"
   ]
  },
  {
   "cell_type": "code",
   "execution_count": 52,
   "metadata": {
    "scrolled": false
   },
   "outputs": [
    {
     "data": {
      "image/png": "[encoded data removed]",
      "text/plain": [
       "<Figure size 2160x1440 with 1 Axes>"
      ]
     },
     "metadata": {
      "needs_background": "light"
     },
     "output_type": "display_data"
    }
   ],
   "source": [
    "plt.figure(figsize=(30,20))\n",
    "plt.bar(resultzip3,resultzip4,color=[\"orange\"])\n",
    "plt.xlabel(\"Three Digit Zip Code\",fontsize=20)\n",
    "plt.ylabel(\"HPI With 2000 Base\",fontsize=20)\n",
    "plt.title(\"HPI With 2000 Base By Three Digit Zip Code\",fontsize=20)\n",
    "plt.show()"
   ]
  },
  {
   "cell_type": "code",
   "execution_count": null,
   "metadata": {},
   "outputs": [],
   "source": [
    "# EXTRACTING THE RELEVANT COLUMNS BY USING SPARKSQL"
   ]
  },
  {
   "cell_type": "code",
   "execution_count": 53,
   "metadata": {},
   "outputs": [],
   "source": [
    "zipresult11=spark1.sql(\"\"\"select `Three-Digit ZIP Code`AS threedigitzip, `Annual Change (%)` AS AnnualChange FROM Datazip\"\"\")"
   ]
  },
  {
   "cell_type": "code",
   "execution_count": 54,
   "metadata": {},
   "outputs": [],
   "source": [
    "zipresult12=zipresult11.groupBy('threedigitzip').max().collect()"
   ]
  },
  {
   "cell_type": "code",
   "execution_count": 55,
   "metadata": {},
   "outputs": [],
   "source": [
    "from pyspark.sql.types import *\n",
    "\n",
    "cSchema7 = StructType([StructField(\"threedigitzip\", StringType())\\\n",
    "                      ,StructField(\"AnnualChange\", FloatType())])\n",
    "\n",
    "zipresult13 = spark1.createDataFrame(zipresult12,schema=cSchema7)"
   ]
  },
  {
   "cell_type": "code",
   "execution_count": 56,
   "metadata": {},
   "outputs": [],
   "source": [
    "zipresult14=zipresult13.sort(zipresult13.AnnualChange.desc()).collect()"
   ]
  },
  {
   "cell_type": "code",
   "execution_count": 57,
   "metadata": {},
   "outputs": [],
   "source": [
    "cSchema8 = StructType([StructField(\"threedigitzip\", StringType())\\\n",
    "                      ,StructField(\"AnnualChange\", FloatType())])\n",
    "\n",
    "zipresult15 = spark1.createDataFrame(zipresult14,schema=cSchema8) "
   ]
  },
  {
   "cell_type": "code",
   "execution_count": 58,
   "metadata": {},
   "outputs": [],
   "source": [
    "zipresult16=zipresult15.take(50)"
   ]
  },
  {
   "cell_type": "code",
   "execution_count": 59,
   "metadata": {},
   "outputs": [],
   "source": [
    "cSchema9 = StructType([StructField(\"threedigitzip\", StringType())\\\n",
    "                      ,StructField(\"AnnualChange\", FloatType())])\n",
    "\n",
    "zipresult17 = spark1.createDataFrame(zipresult16,schema=cSchema9) "
   ]
  },
  {
   "cell_type": "markdown",
   "metadata": {},
   "source": [
    "# CREATING THE RDDS"
   ]
  },
  {
   "cell_type": "code",
   "execution_count": 60,
   "metadata": {},
   "outputs": [],
   "source": [
    "resultzip5=zipresult17.rdd.map(lambda row : row.threedigitzip).collect()"
   ]
  },
  {
   "cell_type": "code",
   "execution_count": 61,
   "metadata": {},
   "outputs": [],
   "source": [
    "resultzip6=zipresult17.rdd.map(lambda row : row.AnnualChange).collect()"
   ]
  },
  {
   "cell_type": "markdown",
   "metadata": {},
   "source": [
    "# PLOTTING THE GRAPH OF ANNUAL CHANGE BY THREE DIGIT ZIP CODE"
   ]
  },
  {
   "cell_type": "code",
   "execution_count": 62,
   "metadata": {
    "scrolled": false
   },
   "outputs": [
    {
     "data": {
      "image/png": "[encoded data removed]",
      "text/plain": [
       "<Figure size 2160x1440 with 1 Axes>"
      ]
     },
     "metadata": {
      "needs_background": "light"
     },
     "output_type": "display_data"
    }
   ],
   "source": [
    "plt.figure(figsize=(30,20))\n",
    "plt.bar(resultzip5,resultzip6,color=[\"green\"])\n",
    "plt.xlabel(\"Three Digit Zip Code\",fontsize=20)\n",
    "plt.ylabel(\"Annual Change\",fontsize=20)\n",
    "plt.title(\"Annual Change By Three Digit Zip Code\",fontsize=20)\n",
    "plt.show()"
   ]
  },
  {
   "cell_type": "markdown",
   "metadata": {},
   "source": [
    "# CONVERTING THE DATAFRAME TO PANDAS DATAFRAME"
   ]
  },
  {
   "cell_type": "code",
   "execution_count": 63,
   "metadata": {},
   "outputs": [],
   "source": [
    "test_df=datazip.toPandas()"
   ]
  },
  {
   "cell_type": "markdown",
   "metadata": {},
   "source": [
    "# TIME SERIES PLOT OF ANNUAL CHANGE VS YEAR"
   ]
  },
  {
   "cell_type": "code",
   "execution_count": 64,
   "metadata": {
    "scrolled": false
   },
   "outputs": [
    {
     "data": {
      "text/plain": [
       "<seaborn.axisgrid.FacetGrid at 0x1e4f429c198>"
      ]
     },
     "execution_count": 64,
     "metadata": {},
     "output_type": "execute_result"
    },
    {
     "data": {
      "image/png": "[encoded data removed]",
      "text/plain": [
       "<Figure size 1180.8x1476 with 1 Axes>"
      ]
     },
     "metadata": {
      "needs_background": "light"
     },
     "output_type": "display_data"
    }
   ],
   "source": [
    "sns.catplot(x = \"Year\", y = \"Annual Change (%)\",data = test_df,kind=\"bar\",height=20.5, aspect=0.8)\n"
   ]
  },
  {
   "cell_type": "markdown",
   "metadata": {},
   "source": [
    "# TIME SERIES PLOT OF HPI VS YEAR"
   ]
  },
  {
   "cell_type": "code",
   "execution_count": 65,
   "metadata": {
    "scrolled": false
   },
   "outputs": [
    {
     "data": {
      "text/plain": [
       "<seaborn.axisgrid.FacetGrid at 0x1e4f70ce240>"
      ]
     },
     "execution_count": 65,
     "metadata": {},
     "output_type": "execute_result"
    },
    {
     "data": {
      "image/png": "[encoded data removed]",
      "text/plain": [
       "<Figure size 1180.8x1476 with 1 Axes>"
      ]
     },
     "metadata": {
      "needs_background": "light"
     },
     "output_type": "display_data"
    }
   ],
   "source": [
    "sns.catplot(x = \"Year\", y = \"HPI\",data = test_df,kind=\"bar\",height=20.5, aspect=0.8)\n"
   ]
  },
  {
   "cell_type": "markdown",
   "metadata": {},
   "source": [
    "# TIME SERIES PLOT OF HPI WITH 2000 BASE VS YEAR"
   ]
  },
  {
   "cell_type": "code",
   "execution_count": 66,
   "metadata": {},
   "outputs": [
    {
     "data": {
      "text/plain": [
       "<seaborn.axisgrid.FacetGrid at 0x1e4f74a69e8>"
      ]
     },
     "execution_count": 66,
     "metadata": {},
     "output_type": "execute_result"
    },
    {
     "data": {
      "image/png": "[encoded data removed]",
      "text/plain": [
       "<Figure size 1180.8x1476 with 1 Axes>"
      ]
     },
     "metadata": {
      "needs_background": "light"
     },
     "output_type": "display_data"
    }
   ],
   "source": [
    "sns.catplot(x = \"Year\", y = \"HPI with 2000 base\",data = test_df,kind=\"bar\",height=20.5, aspect=0.8)\n"
   ]
  },
  {
   "cell_type": "markdown",
   "metadata": {},
   "source": [
    "# BUILDING LINEAR REGRESSION MODEL TO PREDICT THE HPI VALUE BY IMPORTING THE NECESSARY LIBRARIES"
   ]
  },
  {
   "cell_type": "code",
   "execution_count": 67,
   "metadata": {},
   "outputs": [],
   "source": [
    "from pyspark.ml.regression import LinearRegression"
   ]
  },
  {
   "cell_type": "code",
   "execution_count": 68,
   "metadata": {},
   "outputs": [],
   "source": [
    "from pyspark.ml.linalg import Vectors\n",
    "from pyspark.ml.feature import VectorAssembler"
   ]
  },
  {
   "cell_type": "code",
   "execution_count": 69,
   "metadata": {},
   "outputs": [],
   "source": [
    "featureAssembler1=VectorAssembler(inputCols=[\"Annual Change (%)\",\"HPI with 1990 base\",\"HPI with 2000 base\"],outputCol=\"Independent features1\")"
   ]
  },
  {
   "cell_type": "code",
   "execution_count": 71,
   "metadata": {},
   "outputs": [],
   "source": [
    "output1=featureAssembler1.transform(datazip)"
   ]
  },
  {
   "cell_type": "code",
   "execution_count": 72,
   "metadata": {},
   "outputs": [
    {
     "name": "stdout",
     "output_type": "stream",
     "text": [
      "+---------------------+\n",
      "|Independent features1|\n",
      "+---------------------+\n",
      "| [0.0,23.290000915...|\n",
      "| [7.01999998092651...|\n",
      "| [6.98999977111816...|\n",
      "| [7.19000005722045...|\n",
      "| [16.4899997711181...|\n",
      "| [12.1800003051757...|\n",
      "| [7.86999988555908...|\n",
      "| [12.4700002670288...|\n",
      "| [5.57999992370605...|\n",
      "| [15.3599996566772...|\n",
      "| [12.1000003814697...|\n",
      "| [14.6199998855590...|\n",
      "| [21.4200000762939...|\n",
      "| [15.6199998855590...|\n",
      "| [2.55999994277954...|\n",
      "| [-2.0299999713897...|\n",
      "| [-3.3699998855590...|\n",
      "| [-2.0499999523162...|\n",
      "| [-1.4600000381469...|\n",
      "| [-1.3300000429153...|\n",
      "+---------------------+\n",
      "only showing top 20 rows\n",
      "\n"
     ]
    }
   ],
   "source": [
    "output1.select(\"Independent features1\").show()"
   ]
  },
  {
   "cell_type": "code",
   "execution_count": 73,
   "metadata": {},
   "outputs": [
    {
     "name": "stdout",
     "output_type": "stream",
     "text": [
      "+---------------------+------+\n",
      "|Independent features1|   HPI|\n",
      "+---------------------+------+\n",
      "| [0.0,23.290000915...| 100.0|\n",
      "| [7.01999998092651...|107.02|\n",
      "| [6.98999977111816...| 114.5|\n",
      "| [7.19000005722045...|122.73|\n",
      "| [16.4899997711181...|142.97|\n",
      "| [12.1800003051757...|160.39|\n",
      "| [7.86999988555908...| 173.0|\n",
      "| [12.4700002670288...|194.58|\n",
      "| [5.57999992370605...|205.43|\n",
      "| [15.3599996566772...|236.98|\n",
      "| [12.1000003814697...|265.64|\n",
      "| [14.6199998855590...|304.47|\n",
      "| [21.4200000762939...|369.68|\n",
      "| [15.6199998855590...|427.42|\n",
      "| [2.55999994277954...|438.36|\n",
      "| [-2.0299999713897...|429.44|\n",
      "| [-3.3699998855590...|414.98|\n",
      "| [-2.0499999523162...|406.45|\n",
      "| [-1.4600000381469...| 400.5|\n",
      "| [-1.3300000429153...|395.19|\n",
      "+---------------------+------+\n",
      "only showing top 20 rows\n",
      "\n"
     ]
    }
   ],
   "source": [
    "finalizedData1=output1.select(\"Independent features1\",\"HPI\")\n",
    "finalizedData1.show()"
   ]
  },
  {
   "cell_type": "markdown",
   "metadata": {},
   "source": [
    "# SPLITTING THE DATA INTO TRAINING AND TESTING"
   ]
  },
  {
   "cell_type": "code",
   "execution_count": 74,
   "metadata": {},
   "outputs": [],
   "source": [
    "train_data,test_data=finalizedData1.randomSplit([0.8,0.2])"
   ]
  },
  {
   "cell_type": "markdown",
   "metadata": {},
   "source": [
    "# BUILDING THE LINEAR REGRESSION MODEL"
   ]
  },
  {
   "cell_type": "code",
   "execution_count": 75,
   "metadata": {},
   "outputs": [],
   "source": [
    "regressor=LinearRegression(featuresCol=\"Independent features1\",labelCol=\"HPI\")"
   ]
  },
  {
   "cell_type": "code",
   "execution_count": 76,
   "metadata": {},
   "outputs": [],
   "source": [
    "regressor=regressor.fit(train_data)"
   ]
  },
  {
   "cell_type": "code",
   "execution_count": 77,
   "metadata": {},
   "outputs": [],
   "source": [
    "predresults=regressor.evaluate(test_data)"
   ]
  },
  {
   "cell_type": "code",
   "execution_count": 35,
   "metadata": {},
   "outputs": [
    {
     "name": "stdout",
     "output_type": "stream",
     "text": [
      "+---------------------+---+-------------------+\n",
      "|Independent features1|HPI|         prediction|\n",
      "+---------------------+---+-------------------+\n",
      "|            (3,[],[])|0.0|-49.574472550974974|\n",
      "|            (3,[],[])|0.0|-49.574472550974974|\n",
      "|            (3,[],[])|0.0|-49.574472550974974|\n",
      "|            (3,[],[])|0.0|-49.574472550974974|\n",
      "|            (3,[],[])|0.0|-49.574472550974974|\n",
      "|            (3,[],[])|0.0|-49.574472550974974|\n",
      "|            (3,[],[])|0.0|-49.574472550974974|\n",
      "|            (3,[],[])|0.0|-49.574472550974974|\n",
      "|            (3,[],[])|0.0|-49.574472550974974|\n",
      "|            (3,[],[])|0.0|-49.574472550974974|\n",
      "|            (3,[],[])|0.0|-49.574472550974974|\n",
      "|            (3,[],[])|0.0|-49.574472550974974|\n",
      "|            (3,[],[])|0.0|-49.574472550974974|\n",
      "|            (3,[],[])|0.0|-49.574472550974974|\n",
      "|            (3,[],[])|0.0|-49.574472550974974|\n",
      "|            (3,[],[])|0.0|-49.574472550974974|\n",
      "|            (3,[],[])|0.0|-49.574472550974974|\n",
      "|            (3,[],[])|0.0|-49.574472550974974|\n",
      "|            (3,[],[])|0.0|-49.574472550974974|\n",
      "|            (3,[],[])|0.0|-49.574472550974974|\n",
      "+---------------------+---+-------------------+\n",
      "only showing top 20 rows\n",
      "\n"
     ]
    }
   ],
   "source": [
    "predresults.predictions.show()"
   ]
  },
  {
   "cell_type": "markdown",
   "metadata": {},
   "source": [
    "# DETERMING THE RMSE AND R2 VALUE OF TRAIN DATA"
   ]
  },
  {
   "cell_type": "code",
   "execution_count": 78,
   "metadata": {},
   "outputs": [
    {
     "name": "stdout",
     "output_type": "stream",
     "text": [
      "RMSE: 143.836307\n",
      "r2: 0.515626\n"
     ]
    }
   ],
   "source": [
    "trainingSummary = regressor.summary\n",
    "print(\"RMSE: %f\" % trainingSummary.rootMeanSquaredError)\n",
    "print(\"r2: %f\" % trainingSummary.r2)"
   ]
  },
  {
   "cell_type": "markdown",
   "metadata": {},
   "source": [
    "# DETERMINING THE RMSE OF THE TEST DATA"
   ]
  },
  {
   "cell_type": "code",
   "execution_count": 79,
   "metadata": {},
   "outputs": [
    {
     "name": "stdout",
     "output_type": "stream",
     "text": [
      "Root Mean Squared Error (RMSE) on test data = 142.817\n"
     ]
    }
   ],
   "source": [
    "print(\"Root Mean Squared Error (RMSE) on test data = %g\" % predresults.rootMeanSquaredError)"
   ]
  },
  {
   "cell_type": "markdown",
   "metadata": {},
   "source": [
    "# DETERMING THE R2 OF THE TEST DATA"
   ]
  },
  {
   "cell_type": "code",
   "execution_count": 80,
   "metadata": {
    "scrolled": false
   },
   "outputs": [
    {
     "name": "stdout",
     "output_type": "stream",
     "text": [
      "+---------------------+---+------------------+\n",
      "|Independent features1|HPI|        prediction|\n",
      "+---------------------+---+------------------+\n",
      "|            (3,[],[])|0.0|-53.51840021347031|\n",
      "|            (3,[],[])|0.0|-53.51840021347031|\n",
      "|            (3,[],[])|0.0|-53.51840021347031|\n",
      "|            (3,[],[])|0.0|-53.51840021347031|\n",
      "|            (3,[],[])|0.0|-53.51840021347031|\n",
      "|            (3,[],[])|0.0|-53.51840021347031|\n",
      "|            (3,[],[])|0.0|-53.51840021347031|\n",
      "|            (3,[],[])|0.0|-53.51840021347031|\n",
      "|            (3,[],[])|0.0|-53.51840021347031|\n",
      "|            (3,[],[])|0.0|-53.51840021347031|\n",
      "|            (3,[],[])|0.0|-53.51840021347031|\n",
      "|            (3,[],[])|0.0|-53.51840021347031|\n",
      "|            (3,[],[])|0.0|-53.51840021347031|\n",
      "|            (3,[],[])|0.0|-53.51840021347031|\n",
      "|            (3,[],[])|0.0|-53.51840021347031|\n",
      "|            (3,[],[])|0.0|-53.51840021347031|\n",
      "|            (3,[],[])|0.0|-53.51840021347031|\n",
      "|            (3,[],[])|0.0|-53.51840021347031|\n",
      "|            (3,[],[])|0.0|-53.51840021347031|\n",
      "|            (3,[],[])|0.0|-53.51840021347031|\n",
      "+---------------------+---+------------------+\n",
      "only showing top 20 rows\n",
      "\n",
      "+------------------+---+---------------------+\n",
      "|        prediction|HPI|Independent features1|\n",
      "+------------------+---+---------------------+\n",
      "|-53.51840021347031|0.0|            (3,[],[])|\n",
      "|-53.51840021347031|0.0|            (3,[],[])|\n",
      "|-53.51840021347031|0.0|            (3,[],[])|\n",
      "|-53.51840021347031|0.0|            (3,[],[])|\n",
      "|-53.51840021347031|0.0|            (3,[],[])|\n",
      "+------------------+---+---------------------+\n",
      "only showing top 5 rows\n",
      "\n",
      "R Squared (R2) on test data = 0.510036\n"
     ]
    }
   ],
   "source": [
    "lr_predictions = regressor.transform(test_data)\n",
    "lr_predictions.show()\n",
    "lr_predictions.select(\"prediction\",\"HPI\",\"Independent features1\").show(5)\n",
    "from pyspark.ml.evaluation import RegressionEvaluator\n",
    "lr_evaluator = RegressionEvaluator(predictionCol=\"prediction\", labelCol=\"HPI\",metricName=\"r2\")\n",
    "print(\"R Squared (R2) on test data = %g\" % lr_evaluator.evaluate(lr_predictions))"
   ]
  },
  {
   "cell_type": "markdown",
   "metadata": {},
   "source": [
    "# THE ACCURACY OF THE LINEAR REGRESSION MODEL ON BOTH THE TRAINING AND TESTING DATA IS 51% WHICH MEANS THAT THE MODEL IS NOT A GOOD FIT TO THE DATA.HENCE THE MODEL SHOULD BE MORE FINE TUNED OR SOME OTHER MODEL SHOULD BE IMPLEMENTED.I WILL WORK ON IMPROVING THE MODEL ACCURACY"
   ]
  }
 ],
 "metadata": {
  "kernelspec": {
   "display_name": "Python 3",
   "language": "python",
   "name": "python3"
  },
  "language_info": {
   "codemirror_mode": {
    "name": "ipython",
    "version": 3
   },
   "file_extension": ".py",
   "mimetype": "text/x-python",
   "name": "python",
   "nbconvert_exporter": "python",
   "pygments_lexer": "ipython3",
   "version": "3.7.2"
  }
 },
 "nbformat": 4,
 "nbformat_minor": 2
}
